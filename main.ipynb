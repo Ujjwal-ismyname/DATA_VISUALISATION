# Core Libraries
import numpy as np
import pandas as pd

# Visualization
import matplotlib.pyplot as plt
import seaborn as sns
from mpl_toolkits.mplot3d import Axes3D

# Dimensionality Reduction
from sklearn.decomposition import PCA, TruncatedSVD, NMF

# Interactivity
import ipywidgets as widgets
from IPython.display import display, clear_output

# For file download
import io

# Optional: To ignore warnings
import warnings
warnings.filterwarnings('ignore')
